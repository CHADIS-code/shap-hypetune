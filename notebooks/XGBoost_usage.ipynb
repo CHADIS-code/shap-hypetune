{
 "cells": [
  {
   "cell_type": "code",
   "execution_count": 1,
   "metadata": {},
   "outputs": [],
   "source": [
    "import numpy as np\n",
    "import pandas as pd\n",
    "from scipy import stats\n",
    "from sklearn.model_selection import train_test_split\n",
    "from sklearn.datasets import make_classification, make_regression\n",
    "\n",
    "from xgboost import *\n",
    "\n",
    "from shaphypetune import BoostSearch, BoostBoruta, BoostRFE\n",
    "\n",
    "import warnings\n",
    "warnings.simplefilter('ignore')"
   ]
  },
  {
   "cell_type": "code",
   "execution_count": 2,
   "metadata": {},
   "outputs": [],
   "source": [
    "X_clf, y_clf = make_classification(n_samples=8000, n_features=20, n_classes=2, \n",
    "                                   n_informative=4, n_redundant=6, random_state=0)\n",
    "\n",
    "X_clf_train, X_clf_valid, y_clf_train, y_clf_valid = train_test_split(\n",
    "    X_clf, y_clf, test_size=0.3, shuffle=False)\n",
    "\n",
    "X_regr, y_regr = make_classification(n_samples=8000, n_features=20,\n",
    "                                     n_informative=7, random_state=0)\n",
    "\n",
    "X_regr_train, X_regr_valid, y_regr_train, y_regr_valid = train_test_split(\n",
    "    X_regr, y_regr, test_size=0.3, shuffle=False)"
   ]
  },
  {
   "cell_type": "code",
   "execution_count": 3,
   "metadata": {},
   "outputs": [],
   "source": [
    "param_grid = {\n",
    "    'n_estimators': 150,\n",
    "    'learning_rate': [0.3, 0.2, 0.1],\n",
    "    'max_depth': [8, 10, 12, 15]\n",
    "}\n",
    "\n",
    "param_dist = {\n",
    "    'n_estimators': 150,\n",
    "    'learning_rate': stats.uniform(0.09, 0.25),\n",
    "    'max_bin': stats.randint(20,40),\n",
    "    'max_depth': [10, 12]\n",
    "}\n",
    "\n",
    "\n",
    "regr_xgb = XGBRegressor(random_state=0, verbosity=0, n_jobs=-1)\n",
    "clf_xgb = XGBClassifier(random_state=0, verbosity=0, use_label_encoder=False, n_jobs=-1)"
   ]
  },
  {
   "cell_type": "markdown",
   "metadata": {},
   "source": [
    "# Hyperparameters Tuning"
   ]
  },
  {
   "cell_type": "code",
   "execution_count": 4,
   "metadata": {},
   "outputs": [
    {
     "name": "stdout",
     "output_type": "stream",
     "text": [
      "\n",
      "12 trials detected for ('n_estimators', 'learning_rate', 'max_depth')\n",
      "\n",
      "trial: 0001 ### iterations: 00029 ### eval_score: 0.25649\n",
      "trial: 0002 ### iterations: 00031 ### eval_score: 0.25012\n",
      "trial: 0003 ### iterations: 00027 ### eval_score: 0.24894\n",
      "trial: 0004 ### iterations: 00022 ### eval_score: 0.25179\n",
      "trial: 0005 ### iterations: 00121 ### eval_score: 0.24711\n",
      "trial: 0006 ### iterations: 00102 ### eval_score: 0.24251\n",
      "trial: 0007 ### iterations: 00057 ### eval_score: 0.24229\n",
      "trial: 0008 ### iterations: 00057 ### eval_score: 0.24685\n",
      "trial: 0009 ### iterations: 00069 ### eval_score: 0.24725\n",
      "trial: 0010 ### iterations: 00035 ### eval_score: 0.24809\n",
      "trial: 0011 ### iterations: 00045 ### eval_score: 0.24361\n",
      "trial: 0012 ### iterations: 00024 ### eval_score: 0.24584\n"
     ]
    },
    {
     "data": {
      "text/plain": [
       "<shaphypetune.BoostSearch>"
      ]
     },
     "execution_count": 4,
     "metadata": {},
     "output_type": "execute_result"
    }
   ],
   "source": [
    "### HYPERPARAM TUNING WITH GRID-SEARCH ###\n",
    "\n",
    "model = BoostSearch(clf_xgb, param_grid=param_grid)\n",
    "model.fit(X_clf_train, y_clf_train, eval_set=[(X_clf_valid, y_clf_valid)], early_stopping_rounds=6, verbose=0)"
   ]
  },
  {
   "cell_type": "code",
   "execution_count": 5,
   "metadata": {},
   "outputs": [
    {
     "data": {
      "text/plain": [
       "(XGBClassifier(base_score=0.5, booster='gbtree', colsample_bylevel=1,\n",
       "               colsample_bynode=1, colsample_bytree=1, gamma=0, gpu_id=-1,\n",
       "               importance_type='gain', interaction_constraints='',\n",
       "               learning_rate=0.1, max_delta_step=0, max_depth=12,\n",
       "               min_child_weight=1, missing=nan, monotone_constraints='()',\n",
       "               n_estimators=150, n_jobs=-1, num_parallel_tree=1, random_state=0,\n",
       "               reg_alpha=0, reg_lambda=1, scale_pos_weight=1, subsample=1,\n",
       "               tree_method='exact', use_label_encoder=False,\n",
       "               validate_parameters=1, verbosity=0),\n",
       " {'n_estimators': 150, 'learning_rate': 0.1, 'max_depth': 12},\n",
       " 0.24229)"
      ]
     },
     "execution_count": 5,
     "metadata": {},
     "output_type": "execute_result"
    }
   ],
   "source": [
    "model.estimator_, model.best_params_, model.best_score_"
   ]
  },
  {
   "cell_type": "code",
   "execution_count": 6,
   "metadata": {},
   "outputs": [
    {
     "data": {
      "text/plain": [
       "(0.9083333333333333, (2400,), (2400, 2))"
      ]
     },
     "execution_count": 6,
     "metadata": {},
     "output_type": "execute_result"
    }
   ],
   "source": [
    "(model.score(X_clf_valid, y_clf_valid), \n",
    " model.predict(X_clf_valid).shape, \n",
    " model.predict(X_clf_valid, method='predict_proba').shape)"
   ]
  },
  {
   "cell_type": "code",
   "execution_count": 7,
   "metadata": {},
   "outputs": [
    {
     "name": "stdout",
     "output_type": "stream",
     "text": [
      "\n",
      "10 trials detected for ('n_estimators', 'learning_rate', 'max_bin', 'max_depth')\n",
      "\n",
      "trial: 0001 ### iterations: 00046 ### eval_score: 0.24405\n",
      "trial: 0002 ### iterations: 00018 ### eval_score: 0.24631\n",
      "trial: 0003 ### iterations: 00031 ### eval_score: 0.25918\n",
      "trial: 0004 ### iterations: 00024 ### eval_score: 0.25991\n",
      "trial: 0005 ### iterations: 00037 ### eval_score: 0.24498\n",
      "trial: 0006 ### iterations: 00043 ### eval_score: 0.24373\n",
      "trial: 0007 ### iterations: 00031 ### eval_score: 0.25837\n",
      "trial: 0008 ### iterations: 00081 ### eval_score: 0.25303\n",
      "trial: 0009 ### iterations: 00016 ### eval_score: 0.24672\n",
      "trial: 0010 ### iterations: 00044 ### eval_score: 0.25405\n"
     ]
    },
    {
     "data": {
      "text/plain": [
       "<shaphypetune.BoostSearch>"
      ]
     },
     "execution_count": 7,
     "metadata": {},
     "output_type": "execute_result"
    }
   ],
   "source": [
    "### HYPERPARAM TUNING WITH RANDOM-SEARCH ###\n",
    "\n",
    "model = BoostSearch(regr_xgb, param_grid=param_dist,\n",
    "                    n_iter=10, sampling_seed=0)\n",
    "model.fit(X_regr_train, y_regr_train, eval_set=[(X_regr_valid, y_regr_valid)], early_stopping_rounds=6, verbose=0)"
   ]
  },
  {
   "cell_type": "code",
   "execution_count": 8,
   "metadata": {},
   "outputs": [
    {
     "data": {
      "text/plain": [
       "(XGBRegressor(base_score=0.5, booster='gbtree', colsample_bylevel=1,\n",
       "              colsample_bynode=1, colsample_bytree=1, gamma=0, gpu_id=-1,\n",
       "              importance_type='gain', interaction_constraints='',\n",
       "              learning_rate=0.14065173840722262, max_bin=25, max_delta_step=0,\n",
       "              max_depth=10, min_child_weight=1, missing=nan,\n",
       "              monotone_constraints='()', n_estimators=150, n_jobs=-1,\n",
       "              num_parallel_tree=1, random_state=0, reg_alpha=0, reg_lambda=1,\n",
       "              scale_pos_weight=1, subsample=1, tree_method='exact',\n",
       "              validate_parameters=1, verbosity=0),\n",
       " {'n_estimators': 150,\n",
       "  'learning_rate': 0.14065173840722262,\n",
       "  'max_bin': 25,\n",
       "  'max_depth': 10},\n",
       " 0.243731)"
      ]
     },
     "execution_count": 8,
     "metadata": {},
     "output_type": "execute_result"
    }
   ],
   "source": [
    "model.estimator_, model.best_params_, model.best_score_"
   ]
  },
  {
   "cell_type": "code",
   "execution_count": 9,
   "metadata": {},
   "outputs": [
    {
     "data": {
      "text/plain": [
       "(0.7622770212466065, (2400,), (2400, 50))"
      ]
     },
     "execution_count": 9,
     "metadata": {},
     "output_type": "execute_result"
    }
   ],
   "source": [
    "(model.score(X_regr_valid, y_regr_valid), \n",
    " model.predict(X_regr_valid).shape, \n",
    " model.predict(X_regr_valid, method='apply').shape)"
   ]
  },
  {
   "cell_type": "markdown",
   "metadata": {},
   "source": [
    "# Features Selection"
   ]
  },
  {
   "cell_type": "code",
   "execution_count": 10,
   "metadata": {},
   "outputs": [
    {
     "data": {
      "text/plain": [
       "<shaphypetune.BoostBoruta>"
      ]
     },
     "execution_count": 10,
     "metadata": {},
     "output_type": "execute_result"
    }
   ],
   "source": [
    "### BORUTA ###\n",
    "\n",
    "model = BoostBoruta(clf_xgb, max_iter=200, perc=100)\n",
    "model.fit(X_clf_train, y_clf_train, eval_set=[(X_clf_valid, y_clf_valid)], early_stopping_rounds=6, verbose=0)"
   ]
  },
  {
   "cell_type": "code",
   "execution_count": 11,
   "metadata": {},
   "outputs": [
    {
     "data": {
      "text/plain": [
       "(XGBClassifier(base_score=0.5, booster='gbtree', colsample_bylevel=1,\n",
       "               colsample_bynode=1, colsample_bytree=1, gamma=0, gpu_id=-1,\n",
       "               importance_type='gain', interaction_constraints='',\n",
       "               learning_rate=0.300000012, max_delta_step=0, max_depth=6,\n",
       "               min_child_weight=1, missing=nan, monotone_constraints='()',\n",
       "               n_estimators=100, n_jobs=-1, num_parallel_tree=1, random_state=0,\n",
       "               reg_alpha=0, reg_lambda=1, scale_pos_weight=1, subsample=1,\n",
       "               tree_method='exact', use_label_encoder=False,\n",
       "               validate_parameters=1, verbosity=0), 10)"
      ]
     },
     "execution_count": 11,
     "metadata": {},
     "output_type": "execute_result"
    }
   ],
   "source": [
    "model.estimator_, model.n_features_"
   ]
  },
  {
   "cell_type": "code",
   "execution_count": 12,
   "metadata": {},
   "outputs": [
    {
     "data": {
      "text/plain": [
       "(0.905, (2400,), (2400, 10), (2400, 2))"
      ]
     },
     "execution_count": 12,
     "metadata": {},
     "output_type": "execute_result"
    }
   ],
   "source": [
    "(model.score(X_clf_valid, y_clf_valid), \n",
    " model.predict(X_clf_valid).shape, \n",
    " model.transform(X_clf_valid).shape,\n",
    " model.predict(X_clf_valid, method='predict_proba').shape)"
   ]
  },
  {
   "cell_type": "code",
   "execution_count": 13,
   "metadata": {},
   "outputs": [
    {
     "data": {
      "text/plain": [
       "<shaphypetune.BoostRFE>"
      ]
     },
     "execution_count": 13,
     "metadata": {},
     "output_type": "execute_result"
    }
   ],
   "source": [
    "### RECURSIVE FEATURE ELIMINATION (RFE) ###\n",
    "\n",
    "model = BoostRFE(regr_xgb, min_features_to_select=1, step=1)\n",
    "model.fit(X_regr_train, y_regr_train, eval_set=[(X_regr_valid, y_regr_valid)], early_stopping_rounds=6, verbose=0)"
   ]
  },
  {
   "cell_type": "code",
   "execution_count": 14,
   "metadata": {},
   "outputs": [
    {
     "data": {
      "text/plain": [
       "(XGBRegressor(base_score=0.5, booster='gbtree', colsample_bylevel=1,\n",
       "              colsample_bynode=1, colsample_bytree=1, gamma=0, gpu_id=-1,\n",
       "              importance_type='gain', interaction_constraints='',\n",
       "              learning_rate=0.300000012, max_delta_step=0, max_depth=6,\n",
       "              min_child_weight=1, missing=nan, monotone_constraints='()',\n",
       "              n_estimators=100, n_jobs=-1, num_parallel_tree=1, random_state=0,\n",
       "              reg_alpha=0, reg_lambda=1, scale_pos_weight=1, subsample=1,\n",
       "              tree_method='exact', validate_parameters=1, verbosity=0), 11)"
      ]
     },
     "execution_count": 14,
     "metadata": {},
     "output_type": "execute_result"
    }
   ],
   "source": [
    "model.estimator_, model.n_features_"
   ]
  },
  {
   "cell_type": "code",
   "execution_count": 15,
   "metadata": {},
   "outputs": [
    {
     "data": {
      "text/plain": [
       "(0.7690769632066736, (2400,), (2400, 11), (2400, 85))"
      ]
     },
     "execution_count": 15,
     "metadata": {},
     "output_type": "execute_result"
    }
   ],
   "source": [
    "(model.score(X_regr_valid, y_regr_valid), \n",
    " model.predict(X_regr_valid).shape, \n",
    " model.transform(X_regr_valid).shape,\n",
    " model.predict(X_regr_valid, method='apply').shape)"
   ]
  },
  {
   "cell_type": "markdown",
   "metadata": {},
   "source": [
    "# Features Selection with SHAP"
   ]
  },
  {
   "cell_type": "code",
   "execution_count": 16,
   "metadata": {},
   "outputs": [
    {
     "data": {
      "text/plain": [
       "<shaphypetune.BoostBoruta>"
      ]
     },
     "execution_count": 16,
     "metadata": {},
     "output_type": "execute_result"
    }
   ],
   "source": [
    "### BORUTA SHAP ###\n",
    "\n",
    "model = BoostBoruta(clf_xgb, max_iter=200, perc=100,\n",
    "                    importance_type='shap_importances', train_importance=False)\n",
    "model.fit(X_clf_train, y_clf_train, eval_set=[(X_clf_valid, y_clf_valid)], early_stopping_rounds=6, verbose=0)"
   ]
  },
  {
   "cell_type": "code",
   "execution_count": 17,
   "metadata": {},
   "outputs": [
    {
     "data": {
      "text/plain": [
       "(XGBClassifier(base_score=0.5, booster='gbtree', colsample_bylevel=1,\n",
       "               colsample_bynode=1, colsample_bytree=1, gamma=0, gpu_id=-1,\n",
       "               importance_type='gain', interaction_constraints='',\n",
       "               learning_rate=0.300000012, max_delta_step=0, max_depth=6,\n",
       "               min_child_weight=1, missing=nan, monotone_constraints='()',\n",
       "               n_estimators=100, n_jobs=-1, num_parallel_tree=1, random_state=0,\n",
       "               reg_alpha=0, reg_lambda=1, scale_pos_weight=1, subsample=1,\n",
       "               tree_method='exact', use_label_encoder=False,\n",
       "               validate_parameters=1, verbosity=0), 11)"
      ]
     },
     "execution_count": 17,
     "metadata": {},
     "output_type": "execute_result"
    }
   ],
   "source": [
    "model.estimator_, model.n_features_"
   ]
  },
  {
   "cell_type": "code",
   "execution_count": 18,
   "metadata": {},
   "outputs": [
    {
     "data": {
      "text/plain": [
       "(0.905, (2400,), (2400, 11), (2400, 2))"
      ]
     },
     "execution_count": 18,
     "metadata": {},
     "output_type": "execute_result"
    }
   ],
   "source": [
    "(model.score(X_clf_valid, y_clf_valid), \n",
    " model.predict(X_clf_valid).shape, \n",
    " model.transform(X_clf_valid).shape,\n",
    " model.predict(X_clf_valid, method='predict_proba').shape)"
   ]
  },
  {
   "cell_type": "code",
   "execution_count": 19,
   "metadata": {},
   "outputs": [
    {
     "data": {
      "text/plain": [
       "<shaphypetune.BoostRFE>"
      ]
     },
     "execution_count": 19,
     "metadata": {},
     "output_type": "execute_result"
    }
   ],
   "source": [
    "### RECURSIVE FEATURE ELIMINATION (RFE) SHAP ###\n",
    "\n",
    "model = BoostRFE(regr_xgb, min_features_to_select=1, step=1,\n",
    "                 importance_type='shap_importances', train_importance=False)\n",
    "model.fit(X_regr_train, y_regr_train, eval_set=[(X_regr_valid, y_regr_valid)], early_stopping_rounds=6, verbose=0)"
   ]
  },
  {
   "cell_type": "code",
   "execution_count": 20,
   "metadata": {},
   "outputs": [
    {
     "data": {
      "text/plain": [
       "(XGBRegressor(base_score=0.5, booster='gbtree', colsample_bylevel=1,\n",
       "              colsample_bynode=1, colsample_bytree=1, gamma=0, gpu_id=-1,\n",
       "              importance_type='gain', interaction_constraints='',\n",
       "              learning_rate=0.300000012, max_delta_step=0, max_depth=6,\n",
       "              min_child_weight=1, missing=nan, monotone_constraints='()',\n",
       "              n_estimators=100, n_jobs=-1, num_parallel_tree=1, random_state=0,\n",
       "              reg_alpha=0, reg_lambda=1, scale_pos_weight=1, subsample=1,\n",
       "              tree_method='exact', validate_parameters=1, verbosity=0), 8)"
      ]
     },
     "execution_count": 20,
     "metadata": {},
     "output_type": "execute_result"
    }
   ],
   "source": [
    "model.estimator_, model.n_features_"
   ]
  },
  {
   "cell_type": "code",
   "execution_count": 21,
   "metadata": {},
   "outputs": [
    {
     "data": {
      "text/plain": [
       "(0.7689351426525531, (2400,), (2400, 8), (2400, 58))"
      ]
     },
     "execution_count": 21,
     "metadata": {},
     "output_type": "execute_result"
    }
   ],
   "source": [
    "(model.score(X_regr_valid, y_regr_valid), \n",
    " model.predict(X_regr_valid).shape, \n",
    " model.transform(X_regr_valid).shape,\n",
    " model.predict(X_regr_valid, method='apply').shape)"
   ]
  },
  {
   "cell_type": "markdown",
   "metadata": {},
   "source": [
    "# Hyperparameters Tuning + Features Selection"
   ]
  },
  {
   "cell_type": "code",
   "execution_count": 22,
   "metadata": {},
   "outputs": [
    {
     "name": "stdout",
     "output_type": "stream",
     "text": [
      "\n",
      "12 trials detected for ('n_estimators', 'learning_rate', 'max_depth')\n",
      "\n",
      "trial: 0001 ### iterations: 00034 ### eval_score: 0.24945\n",
      "trial: 0002 ### iterations: 00025 ### eval_score: 0.23904\n",
      "trial: 0003 ### iterations: 00020 ### eval_score: 0.23868\n",
      "trial: 0004 ### iterations: 00024 ### eval_score: 0.24345\n",
      "trial: 0005 ### iterations: 00107 ### eval_score: 0.24011\n",
      "trial: 0006 ### iterations: 00097 ### eval_score: 0.23423\n",
      "trial: 0007 ### iterations: 00053 ### eval_score: 0.24083\n",
      "trial: 0008 ### iterations: 00058 ### eval_score: 0.23582\n",
      "trial: 0009 ### iterations: 00058 ### eval_score: 0.23879\n",
      "trial: 0010 ### iterations: 00029 ### eval_score: 0.23693\n",
      "trial: 0011 ### iterations: 00044 ### eval_score: 0.23354\n",
      "trial: 0012 ### iterations: 00028 ### eval_score: 0.23796\n"
     ]
    },
    {
     "data": {
      "text/plain": [
       "<shaphypetune.BoostBoruta>"
      ]
     },
     "execution_count": 22,
     "metadata": {},
     "output_type": "execute_result"
    }
   ],
   "source": [
    "### HYPERPARAM TUNING WITH GRID-SEARCH + BORUTA ###\n",
    "\n",
    "model = BoostBoruta(clf_xgb, param_grid=param_grid, max_iter=200, perc=100)\n",
    "model.fit(X_clf_train, y_clf_train, eval_set=[(X_clf_valid, y_clf_valid)], early_stopping_rounds=6, verbose=0)"
   ]
  },
  {
   "cell_type": "code",
   "execution_count": 23,
   "metadata": {},
   "outputs": [
    {
     "data": {
      "text/plain": [
       "(XGBClassifier(base_score=0.5, booster='gbtree', colsample_bylevel=1,\n",
       "               colsample_bynode=1, colsample_bytree=1, gamma=0, gpu_id=-1,\n",
       "               importance_type='gain', interaction_constraints='',\n",
       "               learning_rate=0.2, max_delta_step=0, max_depth=12,\n",
       "               min_child_weight=1, missing=nan, monotone_constraints='()',\n",
       "               n_estimators=150, n_jobs=-1, num_parallel_tree=1, random_state=0,\n",
       "               reg_alpha=0, reg_lambda=1, scale_pos_weight=1, subsample=1,\n",
       "               tree_method='exact', use_label_encoder=False,\n",
       "               validate_parameters=1, verbosity=0),\n",
       " {'n_estimators': 150, 'learning_rate': 0.2, 'max_depth': 12},\n",
       " 0.233541,\n",
       " 10)"
      ]
     },
     "execution_count": 23,
     "metadata": {},
     "output_type": "execute_result"
    }
   ],
   "source": [
    "model.estimator_, model.best_params_, model.best_score_, model.n_features_"
   ]
  },
  {
   "cell_type": "code",
   "execution_count": 24,
   "metadata": {},
   "outputs": [
    {
     "data": {
      "text/plain": [
       "(0.9108333333333334, (2400,), (2400, 10), (2400, 2))"
      ]
     },
     "execution_count": 24,
     "metadata": {},
     "output_type": "execute_result"
    }
   ],
   "source": [
    "(model.score(X_clf_valid, y_clf_valid), \n",
    " model.predict(X_clf_valid).shape, \n",
    " model.transform(X_clf_valid).shape,\n",
    " model.predict(X_clf_valid, method='predict_proba').shape)"
   ]
  },
  {
   "cell_type": "code",
   "execution_count": 25,
   "metadata": {},
   "outputs": [
    {
     "name": "stdout",
     "output_type": "stream",
     "text": [
      "\n",
      "10 trials detected for ('n_estimators', 'learning_rate', 'max_bin', 'max_depth')\n",
      "\n",
      "trial: 0001 ### iterations: 00107 ### eval_score: 0.23461\n",
      "trial: 0002 ### iterations: 00022 ### eval_score: 0.23708\n",
      "trial: 0003 ### iterations: 00041 ### eval_score: 0.24385\n",
      "trial: 0004 ### iterations: 00028 ### eval_score: 0.24136\n",
      "trial: 0005 ### iterations: 00064 ### eval_score: 0.23088\n",
      "trial: 0006 ### iterations: 00045 ### eval_score: 0.23477\n",
      "trial: 0007 ### iterations: 00019 ### eval_score: 0.24095\n",
      "trial: 0008 ### iterations: 00092 ### eval_score: 0.24043\n",
      "trial: 0009 ### iterations: 00022 ### eval_score: 0.23819\n",
      "trial: 0010 ### iterations: 00039 ### eval_score: 0.23913\n"
     ]
    },
    {
     "data": {
      "text/plain": [
       "<shaphypetune.BoostRFE>"
      ]
     },
     "execution_count": 25,
     "metadata": {},
     "output_type": "execute_result"
    }
   ],
   "source": [
    "### HYPERPARAM TUNING WITH RANDOM-SEARCH + RECURSIVE FEATURE ELIMINATION (RFE) ###\n",
    "\n",
    "model = BoostRFE(regr_xgb, param_grid=param_dist, min_features_to_select=1, step=1,\n",
    "                 n_iter=10, sampling_seed=0)\n",
    "model.fit(X_regr_train, y_regr_train, eval_set=[(X_regr_valid, y_regr_valid)], early_stopping_rounds=6, verbose=0)"
   ]
  },
  {
   "cell_type": "code",
   "execution_count": 26,
   "metadata": {},
   "outputs": [
    {
     "data": {
      "text/plain": [
       "(XGBRegressor(base_score=0.5, booster='gbtree', colsample_bylevel=1,\n",
       "              colsample_bynode=1, colsample_bytree=1, gamma=0, gpu_id=-1,\n",
       "              importance_type='gain', interaction_constraints='',\n",
       "              learning_rate=0.2284852556251466, max_bin=31, max_delta_step=0,\n",
       "              max_depth=10, min_child_weight=1, missing=nan,\n",
       "              monotone_constraints='()', n_estimators=150, n_jobs=-1,\n",
       "              num_parallel_tree=1, random_state=0, reg_alpha=0, reg_lambda=1,\n",
       "              scale_pos_weight=1, subsample=1, tree_method='exact',\n",
       "              validate_parameters=1, verbosity=0),\n",
       " {'n_estimators': 150,\n",
       "  'learning_rate': 0.2284852556251466,\n",
       "  'max_bin': 31,\n",
       "  'max_depth': 10},\n",
       " 0.230878,\n",
       " 8)"
      ]
     },
     "execution_count": 26,
     "metadata": {},
     "output_type": "execute_result"
    }
   ],
   "source": [
    "model.estimator_, model.best_params_, model.best_score_, model.n_features_"
   ]
  },
  {
   "cell_type": "code",
   "execution_count": 27,
   "metadata": {},
   "outputs": [
    {
     "data": {
      "text/plain": [
       "(0.7866884875017205, (2400,), (2400, 8), (2400, 71))"
      ]
     },
     "execution_count": 27,
     "metadata": {},
     "output_type": "execute_result"
    }
   ],
   "source": [
    "(model.score(X_regr_valid, y_regr_valid), \n",
    " model.predict(X_regr_valid).shape, \n",
    " model.transform(X_regr_valid).shape,\n",
    " model.predict(X_regr_valid, method='apply').shape)"
   ]
  },
  {
   "cell_type": "markdown",
   "metadata": {},
   "source": [
    "# Hyperparameters Tuning + Features Selection with SHAP"
   ]
  },
  {
   "cell_type": "code",
   "execution_count": 28,
   "metadata": {
    "scrolled": true
   },
   "outputs": [
    {
     "name": "stdout",
     "output_type": "stream",
     "text": [
      "\n",
      "12 trials detected for ('n_estimators', 'learning_rate', 'max_depth')\n",
      "\n",
      "trial: 0001 ### iterations: 00034 ### eval_score: 0.24945\n",
      "trial: 0002 ### iterations: 00025 ### eval_score: 0.23904\n",
      "trial: 0003 ### iterations: 00022 ### eval_score: 0.24009\n",
      "trial: 0004 ### iterations: 00016 ### eval_score: 0.23766\n",
      "trial: 0005 ### iterations: 00107 ### eval_score: 0.24011\n",
      "trial: 0006 ### iterations: 00079 ### eval_score: 0.23453\n",
      "trial: 0007 ### iterations: 00053 ### eval_score: 0.24083\n",
      "trial: 0008 ### iterations: 00056 ### eval_score: 0.23722\n",
      "trial: 0009 ### iterations: 00058 ### eval_score: 0.23879\n",
      "trial: 0010 ### iterations: 00045 ### eval_score: 0.24069\n",
      "trial: 0011 ### iterations: 00028 ### eval_score: 0.23976\n",
      "trial: 0012 ### iterations: 00028 ### eval_score: 0.23796\n"
     ]
    },
    {
     "data": {
      "text/plain": [
       "<shaphypetune.BoostBoruta>"
      ]
     },
     "execution_count": 28,
     "metadata": {},
     "output_type": "execute_result"
    }
   ],
   "source": [
    "### HYPERPARAM TUNING WITH GRID-SEARCH + BORUTA SHAP ###\n",
    "\n",
    "model = BoostBoruta(clf_xgb, param_grid=param_grid, max_iter=200, perc=100,\n",
    "                    importance_type='shap_importances', train_importance=False)\n",
    "model.fit(X_clf_train, y_clf_train, eval_set=[(X_clf_valid, y_clf_valid)], early_stopping_rounds=6, verbose=0)"
   ]
  },
  {
   "cell_type": "code",
   "execution_count": 29,
   "metadata": {},
   "outputs": [
    {
     "data": {
      "text/plain": [
       "(XGBClassifier(base_score=0.5, booster='gbtree', colsample_bylevel=1,\n",
       "               colsample_bynode=1, colsample_bytree=1, gamma=0, gpu_id=-1,\n",
       "               importance_type='gain', interaction_constraints='',\n",
       "               learning_rate=0.1, max_delta_step=0, max_depth=10,\n",
       "               min_child_weight=1, missing=nan, monotone_constraints='()',\n",
       "               n_estimators=150, n_jobs=-1, num_parallel_tree=1, random_state=0,\n",
       "               reg_alpha=0, reg_lambda=1, scale_pos_weight=1, subsample=1,\n",
       "               tree_method='exact', use_label_encoder=False,\n",
       "               validate_parameters=1, verbosity=0),\n",
       " {'n_estimators': 150, 'learning_rate': 0.1, 'max_depth': 10},\n",
       " 0.234531,\n",
       " 11)"
      ]
     },
     "execution_count": 29,
     "metadata": {},
     "output_type": "execute_result"
    }
   ],
   "source": [
    "model.estimator_, model.best_params_, model.best_score_, model.n_features_"
   ]
  },
  {
   "cell_type": "code",
   "execution_count": 30,
   "metadata": {},
   "outputs": [
    {
     "data": {
      "text/plain": [
       "(0.9125, (2400,), (2400, 11), (2400, 2))"
      ]
     },
     "execution_count": 30,
     "metadata": {},
     "output_type": "execute_result"
    }
   ],
   "source": [
    "(model.score(X_clf_valid, y_clf_valid), \n",
    " model.predict(X_clf_valid).shape, \n",
    " model.transform(X_clf_valid).shape,\n",
    " model.predict(X_clf_valid, method='predict_proba').shape)"
   ]
  },
  {
   "cell_type": "code",
   "execution_count": 31,
   "metadata": {},
   "outputs": [
    {
     "name": "stdout",
     "output_type": "stream",
     "text": [
      "\n",
      "10 trials detected for ('n_estimators', 'learning_rate', 'max_bin', 'max_depth')\n",
      "\n",
      "trial: 0001 ### iterations: 00107 ### eval_score: 0.23461\n",
      "trial: 0002 ### iterations: 00022 ### eval_score: 0.23708\n",
      "trial: 0003 ### iterations: 00062 ### eval_score: 0.24438\n",
      "trial: 0004 ### iterations: 00028 ### eval_score: 0.24136\n",
      "trial: 0005 ### iterations: 00064 ### eval_score: 0.23088\n",
      "trial: 0006 ### iterations: 00045 ### eval_score: 0.23477\n",
      "trial: 0007 ### iterations: 00019 ### eval_score: 0.24095\n",
      "trial: 0008 ### iterations: 00083 ### eval_score: 0.24098\n",
      "trial: 0009 ### iterations: 00018 ### eval_score: 0.23776\n",
      "trial: 0010 ### iterations: 00055 ### eval_score: 0.24127\n"
     ]
    },
    {
     "data": {
      "text/plain": [
       "<shaphypetune.BoostRFE>"
      ]
     },
     "execution_count": 31,
     "metadata": {},
     "output_type": "execute_result"
    }
   ],
   "source": [
    "### HYPERPARAM TUNING WITH RANDOM-SEARCH + RECURSIVE FEATURE ELIMINATION (RFE) SHAP ###\n",
    "\n",
    "model = BoostRFE(regr_xgb, param_grid=param_dist, min_features_to_select=1, step=1,\n",
    "                 n_iter=10, sampling_seed=0,\n",
    "                 importance_type='shap_importances', train_importance=False)\n",
    "model.fit(X_regr_train, y_regr_train, eval_set=[(X_regr_valid, y_regr_valid)], early_stopping_rounds=6, verbose=0)"
   ]
  },
  {
   "cell_type": "code",
   "execution_count": 32,
   "metadata": {},
   "outputs": [
    {
     "data": {
      "text/plain": [
       "(XGBRegressor(base_score=0.5, booster='gbtree', colsample_bylevel=1,\n",
       "              colsample_bynode=1, colsample_bytree=1, gamma=0, gpu_id=-1,\n",
       "              importance_type='gain', interaction_constraints='',\n",
       "              learning_rate=0.2284852556251466, max_bin=31, max_delta_step=0,\n",
       "              max_depth=10, min_child_weight=1, missing=nan,\n",
       "              monotone_constraints='()', n_estimators=150, n_jobs=-1,\n",
       "              num_parallel_tree=1, random_state=0, reg_alpha=0, reg_lambda=1,\n",
       "              scale_pos_weight=1, subsample=1, tree_method='exact',\n",
       "              validate_parameters=1, verbosity=0),\n",
       " {'n_estimators': 150,\n",
       "  'learning_rate': 0.2284852556251466,\n",
       "  'max_bin': 31,\n",
       "  'max_depth': 10},\n",
       " 0.230878,\n",
       " 8)"
      ]
     },
     "execution_count": 32,
     "metadata": {},
     "output_type": "execute_result"
    }
   ],
   "source": [
    "model.estimator_, model.best_params_, model.best_score_, model.n_features_"
   ]
  },
  {
   "cell_type": "code",
   "execution_count": 33,
   "metadata": {},
   "outputs": [
    {
     "data": {
      "text/plain": [
       "(0.7866884875017205, (2400,), (2400, 8), (2400, 71))"
      ]
     },
     "execution_count": 33,
     "metadata": {},
     "output_type": "execute_result"
    }
   ],
   "source": [
    "(model.score(X_regr_valid, y_regr_valid), \n",
    " model.predict(X_regr_valid).shape, \n",
    " model.transform(X_regr_valid).shape,\n",
    " model.predict(X_regr_valid, method='apply').shape)"
   ]
  },
  {
   "cell_type": "markdown",
   "metadata": {},
   "source": [
    "# CUSTOM EVAL METRIC SUPPORT"
   ]
  },
  {
   "cell_type": "code",
   "execution_count": 34,
   "metadata": {},
   "outputs": [],
   "source": [
    "from sklearn.metrics import roc_auc_score\n",
    "\n",
    "def AUC(y_hat, dtrain):\n",
    "    y_true = dtrain.get_label()\n",
    "    return 'auc', roc_auc_score(y_true, y_hat)"
   ]
  },
  {
   "cell_type": "code",
   "execution_count": 35,
   "metadata": {},
   "outputs": [
    {
     "name": "stdout",
     "output_type": "stream",
     "text": [
      "\n",
      "12 trials detected for ('n_estimators', 'learning_rate', 'max_depth')\n",
      "\n",
      "trial: 0001 ### iterations: 00046 ### eval_score: 0.96727\n",
      "trial: 0002 ### iterations: 00033 ### eval_score: 0.9668\n",
      "trial: 0003 ### iterations: 00022 ### eval_score: 0.96586\n",
      "trial: 0004 ### iterations: 00049 ### eval_score: 0.96637\n",
      "trial: 0005 ### iterations: 00118 ### eval_score: 0.96669\n",
      "trial: 0006 ### iterations: 00105 ### eval_score: 0.96753\n",
      "trial: 0007 ### iterations: 00091 ### eval_score: 0.96737\n",
      "trial: 0008 ### iterations: 00101 ### eval_score: 0.96755\n",
      "trial: 0009 ### iterations: 00060 ### eval_score: 0.96673\n",
      "trial: 0010 ### iterations: 00045 ### eval_score: 0.96641\n",
      "trial: 0011 ### iterations: 00051 ### eval_score: 0.96716\n",
      "trial: 0012 ### iterations: 00070 ### eval_score: 0.96683\n"
     ]
    },
    {
     "data": {
      "text/plain": [
       "<shaphypetune.BoostRFE>"
      ]
     },
     "execution_count": 35,
     "metadata": {},
     "output_type": "execute_result"
    }
   ],
   "source": [
    "model = BoostRFE(clf_xgb, \n",
    "                 param_grid=param_grid, min_features_to_select=1, step=1,\n",
    "                 greater_is_better=True)\n",
    "model.fit(X_clf_train, y_clf_train, eval_set=[(X_clf_valid, y_clf_valid)], early_stopping_rounds=6, verbose=0,\n",
    "          eval_metric=AUC)"
   ]
  }
 ],
 "metadata": {
  "kernelspec": {
   "display_name": "Python 3",
   "language": "python",
   "name": "python3"
  },
  "language_info": {
   "codemirror_mode": {
    "name": "ipython",
    "version": 3
   },
   "file_extension": ".py",
   "mimetype": "text/x-python",
   "name": "python",
   "nbconvert_exporter": "python",
   "pygments_lexer": "ipython3",
   "version": "3.7.4"
  }
 },
 "nbformat": 4,
 "nbformat_minor": 2
}
