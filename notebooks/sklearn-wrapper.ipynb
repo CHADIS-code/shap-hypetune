{
 "cells": [
  {
   "cell_type": "code",
   "execution_count": 1,
   "metadata": {},
   "outputs": [],
   "source": [
    "import numpy as np\n",
    "from sklearn.pipeline import make_pipeline\n",
    "from sklearn.preprocessing import StandardScaler\n",
    "from sklearn.datasets import make_classification\n",
    "from sklearn.model_selection import GridSearchCV, train_test_split\n",
    "\n",
    "from lightgbm import *\n",
    "\n",
    "from shaphypetune import BoostBoruta, BoostRFE\n",
    "\n",
    "import warnings\n",
    "warnings.simplefilter('ignore')"
   ]
  },
  {
   "cell_type": "code",
   "execution_count": 2,
   "metadata": {},
   "outputs": [],
   "source": [
    "X, y = make_classification(n_samples=8000, n_features=20, n_classes=2, \n",
    "                           n_informative=4, n_redundant=6, random_state=0)\n",
    "\n",
    "X_train, X_valid, y_train, y_valid = train_test_split(\n",
    "    X, y, test_size=0.3, shuffle=False)"
   ]
  },
  {
   "cell_type": "code",
   "execution_count": 3,
   "metadata": {},
   "outputs": [],
   "source": [
    "from sklearn.base import BaseEstimator\n",
    "from sklearn.utils.metaestimators import if_delegate_has_method\n",
    "\n",
    "\n",
    "class BoostRFEWrap(BaseEstimator, BoostRFE):\n",
    "\n",
    "    @if_delegate_has_method(delegate='estimator')\n",
    "    def predict_proba(self, X):\n",
    "        return self.predict(X, method='predict_proba')\n",
    "    \n",
    "    \n",
    "class BoostBorutaWrap(BaseEstimator, BoostBoruta):\n",
    "\n",
    "    @if_delegate_has_method(delegate='estimator')\n",
    "    def predict_proba(self, X):\n",
    "        return self.predict(X, method='predict_proba')"
   ]
  },
  {
   "cell_type": "code",
   "execution_count": 4,
   "metadata": {},
   "outputs": [
    {
     "name": "stdout",
     "output_type": "stream",
     "text": [
      "\n",
      "6 trials detected for ('learning_rate', 'num_leaves')\n",
      "\n",
      "trial: 0001 ### iterations: 00012 ### eval_score: 0.45358\n",
      "trial: 0002 ### iterations: 00011 ### eval_score: 0.43826\n",
      "trial: 0003 ### iterations: 00012 ### eval_score: 0.41958\n",
      "trial: 0004 ### iterations: 00022 ### eval_score: 0.43875\n",
      "trial: 0005 ### iterations: 00022 ### eval_score: 0.42605\n",
      "trial: 0006 ### iterations: 00026 ### eval_score: 0.42618\n"
     ]
    },
    {
     "data": {
      "text/plain": [
       "Pipeline(steps=[('standardscaler', StandardScaler()),\n",
       "                ('boostborutawrap',\n",
       "                 BoostBorutaWrap(estimator=LGBMClassifier(), max_iter=200,\n",
       "                                 param_grid={'learning_rate': [0.2, 0.1],\n",
       "                                             'num_leaves': [25, 30, 35]}))])"
      ]
     },
     "execution_count": 4,
     "metadata": {},
     "output_type": "execute_result"
    }
   ],
   "source": [
    "parameters = {\n",
    "            'learning_rate': [0.2, 0.1],\n",
    "            'num_leaves': [25, 30, 35],\n",
    "            }\n",
    "\n",
    "model = BoostBorutaWrap(LGBMClassifier(n_estimators= 100),\n",
    "                        param_grid = parameters, \n",
    "                        max_iter=200, perc=100)\n",
    "\n",
    "pipe = make_pipeline(StandardScaler(), model)\n",
    "pipe.fit(X_train, y_train, \n",
    "         boostborutawrap__eval_set=[(X_valid, y_valid)], \n",
    "         boostborutawrap__early_stopping_rounds=6, boostborutawrap__verbose=0)"
   ]
  },
  {
   "cell_type": "code",
   "execution_count": 5,
   "metadata": {},
   "outputs": [
    {
     "data": {
      "text/plain": [
       "((2400,), (2400, 2), (2400, 10))"
      ]
     },
     "execution_count": 5,
     "metadata": {},
     "output_type": "execute_result"
    }
   ],
   "source": [
    "pipe.predict(X_valid).shape, pipe.predict_proba(X_valid).shape, pipe.transform(X_valid).shape"
   ]
  },
  {
   "cell_type": "code",
   "execution_count": 6,
   "metadata": {},
   "outputs": [
    {
     "data": {
      "text/plain": [
       "GridSearchCV(estimator=BoostRFEWrap(estimator=LGBMClassifier(n_estimators=50),\n",
       "                                    min_features_to_select=10, step=3),\n",
       "             n_jobs=-1,\n",
       "             param_grid={'estimator__learning_rate': [0.2, 0.1],\n",
       "                         'estimator__num_leaves': [25, 30, 35]})"
      ]
     },
     "execution_count": 6,
     "metadata": {},
     "output_type": "execute_result"
    }
   ],
   "source": [
    "model = BoostRFEWrap(LGBMClassifier(n_estimators= 50),\n",
    "                     min_features_to_select=10, step=3)\n",
    "\n",
    "parameters = {\n",
    "            'estimator__learning_rate': [0.2, 0.1],\n",
    "            'estimator__num_leaves': [25, 30, 35],\n",
    "            }\n",
    "\n",
    "search = GridSearchCV(\n",
    "    model, parameters, n_jobs=-1)\n",
    "\n",
    "search.fit(X_train, y_train)"
   ]
  },
  {
   "cell_type": "code",
   "execution_count": 7,
   "metadata": {},
   "outputs": [
    {
     "data": {
      "text/plain": [
       "((2400,), (2400, 2), (2400, 10))"
      ]
     },
     "execution_count": 7,
     "metadata": {},
     "output_type": "execute_result"
    }
   ],
   "source": [
    "search.predict(X_valid).shape, search.predict_proba(X_valid).shape, search.transform(X_valid).shape"
   ]
  }
 ],
 "metadata": {
  "kernelspec": {
   "display_name": "Python 3",
   "language": "python",
   "name": "python3"
  },
  "language_info": {
   "codemirror_mode": {
    "name": "ipython",
    "version": 3
   },
   "file_extension": ".py",
   "mimetype": "text/x-python",
   "name": "python",
   "nbconvert_exporter": "python",
   "pygments_lexer": "ipython3",
   "version": "3.6.6"
  }
 },
 "nbformat": 4,
 "nbformat_minor": 2
}
